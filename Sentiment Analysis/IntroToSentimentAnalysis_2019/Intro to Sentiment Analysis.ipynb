{
 "cells": [
  {
   "cell_type": "code",
   "execution_count": 1,
   "metadata": {},
   "outputs": [],
   "source": [
    "from textblob import TextBlob\n",
    "import pandas as pd\n",
    "import matplotlib.pyplot as plt\n",
    "import os"
   ]
  },
  {
   "cell_type": "code",
   "execution_count": 2,
   "metadata": {},
   "outputs": [
    {
     "name": "stdout",
     "output_type": "stream",
     "text": [
      "Sentiment(polarity=0.6, subjectivity=1.0)\n",
      "Sentiment(polarity=-0.3, subjectivity=1.0)\n",
      "Sentiment(polarity=0.78, subjectivity=1.0)\n",
      "Sentiment(polarity=-0.23076923076923073, subjectivity=0.7692307692307692)\n",
      "Sentiment(polarity=-0.23076923076923073, subjectivity=0.7692307692307692)\n",
      "Sentiment(polarity=-0.23076923076923073, subjectivity=0.7692307692307692)\n"
     ]
    }
   ],
   "source": [
    "#Baseline\n",
    "print(TextBlob(\"nice\").sentiment) #0.6\n",
    "#\"Not\" multiplies polarity by -0.5\n",
    "print(TextBlob(\"not nice\").sentiment) #-0.3\n",
    "#Very multiplies polarity by 1.3\n",
    "print(TextBlob(\"very nice\").sentiment) #0.78\n",
    "#Multiplies polarity by -0.5 * (1/1.3)\n",
    "print(TextBlob(\"not very nice\").sentiment) #-0.23\n",
    "#Ignores single letter words\n",
    "print(TextBlob(\"not a very nice\").sentiment) #-0.23\n",
    "#Ignores neutral words\n",
    "print(TextBlob(\"not a very nice description\").sentiment) #-0.23"
   ]
  },
  {
   "cell_type": "code",
   "execution_count": 3,
   "metadata": {},
   "outputs": [
    {
     "data": {
      "image/png": "[encoded data removed]",
      "text/plain": [
       "<Figure size 1080x720 with 1 Axes>"
      ]
     },
     "metadata": {
      "needs_background": "light"
     },
     "output_type": "display_data"
    }
   ],
   "source": [
    "f = open('beeMovieScript.txt','r')\n",
    "beeMovie = f.readlines()\n",
    "beeMovie = [s.strip() for s in beeMovie]\n",
    "\n",
    "#Get chunks of 20 lines and their sentiments\n",
    "beeSentiments = []\n",
    "i = 0\n",
    "while i < 1360:\n",
    "    chunk = \" \".join(beeMovie[i:(i+20)])\n",
    "    beeSentiments.append(TextBlob(chunk).sentiment.polarity * 100)\n",
    "    i += 20\n",
    "\n",
    "#Create dataframe\n",
    "beeIndx = range(0,1359,20)\n",
    "beeDf = pd.DataFrame({'beeIndx' : beeIndx, 'beeSentiment' : beeSentiments})\n",
    "\n",
    "#Plot\n",
    "ax = beeDf.plot(x = 'beeIndx', y='beeSentiment', kind='bar', title =\"Bee Movie Sentiment\", figsize=(15, 10), legend=False, fontsize=12)\n",
    "ax.set_xlabel(\"Bee Movie Line Index\", fontsize=12)\n",
    "ax.set_ylabel(\"Sentiment\", fontsize=12)\n",
    "plt.show()\n"
   ]
  },
  {
   "cell_type": "code",
   "execution_count": 4,
   "metadata": {},
   "outputs": [],
   "source": [
    "import nltk\n",
    "import re"
   ]
  },
  {
   "cell_type": "code",
   "execution_count": 5,
   "metadata": {},
   "outputs": [
    {
     "name": "stdout",
     "output_type": "stream",
     "text": [
      "{'This': True, 'cat': True, 'is': True, \"n't\": True, 'very': True, 'cute': True}\n"
     ]
    }
   ],
   "source": [
    "#Tokenize Sentences properly\n",
    "def format_sentence(sent):\n",
    "    return({word: True for word in nltk.word_tokenize(sent)})\n",
    "\n",
    "print(format_sentence(\"This cat isn't very cute\"))\n",
    "\n",
    "#Simple Function to Clean Tweets\n",
    "def clean_tweet(tweet):\n",
    "    '''\n",
    "    Utility function to clean tweet text by removing links, special characters,\n",
    "    and usernames using simple regex statements.\n",
    "    '''\n",
    "    tweet = tweet.lower().strip()\n",
    "    return ' '.join(re.sub(\"(@[A-Za-z0-9_]+)|([^0-9A-Za-z'\\-])|(\\w+:\\/\\/\\S+)\", \" \", tweet).split())"
   ]
  },
  {
   "cell_type": "code",
   "execution_count": 6,
   "metadata": {},
   "outputs": [],
   "source": [
    "pos = []\n",
    "with open(r\"pos_tweets.txt\", encoding=\"utf8\") as f:\n",
    "    for i in f:\n",
    "        cleanedTweet = format_sentence(clean_tweet(i))\n",
    "        pos.append([cleanedTweet, 'pos'])\n",
    "        \n",
    "neg = []\n",
    "with open(r\"neg_tweets.txt\", encoding=\"utf8\") as f:\n",
    "    for i in f:\n",
    "        cleanedTweet = format_sentence(clean_tweet(i))\n",
    "        neg.append([cleanedTweet, 'neg'])  "
   ]
  },
  {
   "cell_type": "code",
   "execution_count": 7,
   "metadata": {},
   "outputs": [
    {
     "data": {
      "text/plain": [
       "[{'too': True,\n",
       "  'busy': True,\n",
       "  'to': True,\n",
       "  'see': True,\n",
       "  'me': True,\n",
       "  'in': True,\n",
       "  'london': True,\n",
       "  'this': True,\n",
       "  'evening': True,\n",
       "  'what': True,\n",
       "  'is': True,\n",
       "  'a': True,\n",
       "  'boy': True,\n",
       "  'do': True},\n",
       " 'neg']"
      ]
     },
     "execution_count": 7,
     "metadata": {},
     "output_type": "execute_result"
    }
   ],
   "source": [
    "neg[0]"
   ]
  },
  {
   "cell_type": "code",
   "execution_count": 8,
   "metadata": {},
   "outputs": [],
   "source": [
    "# next, split labeled data into the training and test data\n",
    "training = pos[:int((.8)*len(pos))] + neg[:int((.8)*len(neg))]\n",
    "test = pos[int((.2)*len(pos)):] + neg[int((.2)*len(neg)):]"
   ]
  },
  {
   "cell_type": "code",
   "execution_count": 9,
   "metadata": {},
   "outputs": [
    {
     "name": "stdout",
     "output_type": "stream",
     "text": [
      "Most Informative Features\n",
      "                 awesome = True              pos : neg    =     26.2 : 1.0\n",
      "                headache = True              neg : pos    =     19.1 : 1.0\n",
      "                      no = True              neg : pos    =     15.8 : 1.0\n",
      "                    love = True              pos : neg    =     14.4 : 1.0\n",
      "                   thank = True              pos : neg    =     12.7 : 1.0\n",
      "                    haha = True              pos : neg    =     11.9 : 1.0\n",
      "                  hahaha = True              pos : neg    =     11.2 : 1.0\n",
      "                   great = True              pos : neg    =     10.2 : 1.0\n",
      "                       n = True              pos : neg    =      9.7 : 1.0\n",
      "               beautiful = True              pos : neg    =      9.7 : 1.0\n",
      "                     fan = True              pos : neg    =      9.7 : 1.0\n",
      "                   loved = True              pos : neg    =      9.7 : 1.0\n",
      "                    lost = True              neg : pos    =      9.3 : 1.0\n",
      "                    damn = True              neg : pos    =      9.0 : 1.0\n",
      "                   sorry = True              neg : pos    =      8.5 : 1.0\n",
      "                     100 = True              pos : neg    =      8.2 : 1.0\n",
      "                    been = True              neg : pos    =      8.2 : 1.0\n",
      "                 amazing = True              pos : neg    =      8.0 : 1.0\n",
      "                    sick = True              neg : pos    =      7.9 : 1.0\n",
      "                 excited = True              pos : neg    =      7.6 : 1.0\n"
     ]
    }
   ],
   "source": [
    "#Now time to create our model\n",
    "from nltk.classify import NaiveBayesClassifier\n",
    " \n",
    "classifier = NaiveBayesClassifier.train(training)\n",
    "classifier.show_most_informative_features(20)"
   ]
  },
  {
   "cell_type": "code",
   "execution_count": 10,
   "metadata": {},
   "outputs": [
    {
     "name": "stdout",
     "output_type": "stream",
     "text": [
      "pos\n",
      "neg\n",
      "neg\n"
     ]
    }
   ],
   "source": [
    "example1 = \"Bobby is awesome!\" \n",
    "print(classifier.classify(format_sentence(clean_tweet(example1))))\n",
    "\n",
    "example2 = \"Bobby is awful.\" \n",
    "print(classifier.classify(format_sentence(clean_tweet(example2))))\n",
    "\n",
    "#Does not take into account negation, so likely to not be perfect\n",
    "example3 = \"Bobby is not awful!\" \n",
    "print(classifier.classify(format_sentence(clean_tweet(example3))))"
   ]
  },
  {
   "cell_type": "code",
   "execution_count": 11,
   "metadata": {},
   "outputs": [
    {
     "name": "stdout",
     "output_type": "stream",
     "text": [
      "0.9351620947630923\n"
     ]
    }
   ],
   "source": [
    "from nltk.classify.util import accuracy\n",
    "print(accuracy(classifier, test))"
   ]
  },
  {
   "cell_type": "code",
   "execution_count": 12,
   "metadata": {},
   "outputs": [
    {
     "data": {
      "text/plain": [
       "[{'for': True,\n",
       "  'sure': True,\n",
       "  'except': True,\n",
       "  'the': True,\n",
       "  'new': True,\n",
       "  'moon': True,\n",
       "  'bit': True,\n",
       "  'imagine': True,\n",
       "  'live': True,\n",
       "  'in': True,\n",
       "  'australia': True,\n",
       "  'omj': True},\n",
       " 'pos']"
      ]
     },
     "execution_count": 12,
     "metadata": {},
     "output_type": "execute_result"
    }
   ],
   "source": [
    "test[0]"
   ]
  },
  {
   "cell_type": "code",
   "execution_count": 13,
   "metadata": {},
   "outputs": [
    {
     "data": {
      "text/plain": [
       "'pos'"
      ]
     },
     "execution_count": 13,
     "metadata": {},
     "output_type": "execute_result"
    }
   ],
   "source": [
    "classifier.classify(test[0][0])"
   ]
  },
  {
   "cell_type": "code",
   "execution_count": 14,
   "metadata": {},
   "outputs": [],
   "source": [
    "df_full = pd.read_csv(\"tweets.csv\")"
   ]
  },
  {
   "cell_type": "code",
   "execution_count": 15,
   "metadata": {},
   "outputs": [
    {
     "data": {
      "text/html": [
       "<div>\n",
       "<style scoped>\n",
       "    .dataframe tbody tr th:only-of-type {\n",
       "        vertical-align: middle;\n",
       "    }\n",
       "\n",
       "    .dataframe tbody tr th {\n",
       "        vertical-align: top;\n",
       "    }\n",
       "\n",
       "    .dataframe thead th {\n",
       "        text-align: right;\n",
       "    }\n",
       "</style>\n",
       "<table border=\"1\" class=\"dataframe\">\n",
       "  <thead>\n",
       "    <tr style=\"text-align: right;\">\n",
       "      <th></th>\n",
       "      <th>id</th>\n",
       "      <th>id_str</th>\n",
       "      <th>user_location</th>\n",
       "      <th>user_bg_color</th>\n",
       "      <th>retweet_count</th>\n",
       "      <th>user_name</th>\n",
       "      <th>polarity</th>\n",
       "      <th>created</th>\n",
       "      <th>geo</th>\n",
       "      <th>user_description</th>\n",
       "      <th>user_created</th>\n",
       "      <th>user_followers</th>\n",
       "      <th>coordinates</th>\n",
       "      <th>subjectivity</th>\n",
       "      <th>text</th>\n",
       "    </tr>\n",
       "  </thead>\n",
       "  <tbody>\n",
       "    <tr>\n",
       "      <td>0</td>\n",
       "      <td>1</td>\n",
       "      <td>729828033092149248</td>\n",
       "      <td>Wheeling WV</td>\n",
       "      <td>022330</td>\n",
       "      <td>0</td>\n",
       "      <td>Jaybo26003</td>\n",
       "      <td>0.00</td>\n",
       "      <td>2016-05-10T00:18:57</td>\n",
       "      <td>NaN</td>\n",
       "      <td>NaN</td>\n",
       "      <td>2011-11-17T02:45:42</td>\n",
       "      <td>39</td>\n",
       "      <td>NaN</td>\n",
       "      <td>0.0</td>\n",
       "      <td>Make a difference vote! WV Bernie Sanders Coul...</td>\n",
       "    </tr>\n",
       "    <tr>\n",
       "      <td>1</td>\n",
       "      <td>2</td>\n",
       "      <td>729828033092161537</td>\n",
       "      <td>NaN</td>\n",
       "      <td>C0DEED</td>\n",
       "      <td>0</td>\n",
       "      <td>brittttany_ns</td>\n",
       "      <td>0.15</td>\n",
       "      <td>2016-05-10T00:18:57</td>\n",
       "      <td>NaN</td>\n",
       "      <td>18 // PSJAN</td>\n",
       "      <td>2012-12-24T17:33:12</td>\n",
       "      <td>1175</td>\n",
       "      <td>NaN</td>\n",
       "      <td>0.1</td>\n",
       "      <td>RT @HlPHOPNEWS: T.I. says if Donald Trump wins...</td>\n",
       "    </tr>\n",
       "    <tr>\n",
       "      <td>2</td>\n",
       "      <td>3</td>\n",
       "      <td>729828033566224384</td>\n",
       "      <td>NaN</td>\n",
       "      <td>C0DEED</td>\n",
       "      <td>0</td>\n",
       "      <td>JeffriesLori</td>\n",
       "      <td>0.00</td>\n",
       "      <td>2016-05-10T00:18:57</td>\n",
       "      <td>NaN</td>\n",
       "      <td>NaN</td>\n",
       "      <td>2012-10-11T14:29:59</td>\n",
       "      <td>42</td>\n",
       "      <td>NaN</td>\n",
       "      <td>0.0</td>\n",
       "      <td>You have no one to blame but yourselves if Tru...</td>\n",
       "    </tr>\n",
       "    <tr>\n",
       "      <td>3</td>\n",
       "      <td>4</td>\n",
       "      <td>729828033893302272</td>\n",
       "      <td>global</td>\n",
       "      <td>C0DEED</td>\n",
       "      <td>0</td>\n",
       "      <td>WhorunsGOVs</td>\n",
       "      <td>0.00</td>\n",
       "      <td>2016-05-10T00:18:57</td>\n",
       "      <td>NaN</td>\n",
       "      <td>Get Latest Global Political news as they unfold</td>\n",
       "      <td>2014-02-16T07:34:24</td>\n",
       "      <td>290</td>\n",
       "      <td>NaN</td>\n",
       "      <td>0.0</td>\n",
       "      <td>'Ruin the rest of their lives': Donald Trump c...</td>\n",
       "    </tr>\n",
       "    <tr>\n",
       "      <td>4</td>\n",
       "      <td>5</td>\n",
       "      <td>729828034178482177</td>\n",
       "      <td>California, USA</td>\n",
       "      <td>131516</td>\n",
       "      <td>0</td>\n",
       "      <td>BJCG0830</td>\n",
       "      <td>0.00</td>\n",
       "      <td>2016-05-10T00:18:57</td>\n",
       "      <td>NaN</td>\n",
       "      <td>Queer Latino invoking his 1st amendment privil...</td>\n",
       "      <td>2009-03-21T01:43:26</td>\n",
       "      <td>354</td>\n",
       "      <td>NaN</td>\n",
       "      <td>0.0</td>\n",
       "      <td>RT @elianayjohnson: Per source, GOP megadonor ...</td>\n",
       "    </tr>\n",
       "  </tbody>\n",
       "</table>\n",
       "</div>"
      ],
      "text/plain": [
       "   id              id_str    user_location user_bg_color  retweet_count  \\\n",
       "0   1  729828033092149248      Wheeling WV        022330              0   \n",
       "1   2  729828033092161537              NaN        C0DEED              0   \n",
       "2   3  729828033566224384              NaN        C0DEED              0   \n",
       "3   4  729828033893302272           global        C0DEED              0   \n",
       "4   5  729828034178482177  California, USA        131516              0   \n",
       "\n",
       "       user_name  polarity              created  geo  \\\n",
       "0     Jaybo26003      0.00  2016-05-10T00:18:57  NaN   \n",
       "1  brittttany_ns      0.15  2016-05-10T00:18:57  NaN   \n",
       "2   JeffriesLori      0.00  2016-05-10T00:18:57  NaN   \n",
       "3    WhorunsGOVs      0.00  2016-05-10T00:18:57  NaN   \n",
       "4       BJCG0830      0.00  2016-05-10T00:18:57  NaN   \n",
       "\n",
       "                                    user_description         user_created  \\\n",
       "0                                                NaN  2011-11-17T02:45:42   \n",
       "1                                        18 // PSJAN  2012-12-24T17:33:12   \n",
       "2                                                NaN  2012-10-11T14:29:59   \n",
       "3    Get Latest Global Political news as they unfold  2014-02-16T07:34:24   \n",
       "4  Queer Latino invoking his 1st amendment privil...  2009-03-21T01:43:26   \n",
       "\n",
       "   user_followers coordinates  subjectivity  \\\n",
       "0              39         NaN           0.0   \n",
       "1            1175         NaN           0.1   \n",
       "2              42         NaN           0.0   \n",
       "3             290         NaN           0.0   \n",
       "4             354         NaN           0.0   \n",
       "\n",
       "                                                text  \n",
       "0  Make a difference vote! WV Bernie Sanders Coul...  \n",
       "1  RT @HlPHOPNEWS: T.I. says if Donald Trump wins...  \n",
       "2  You have no one to blame but yourselves if Tru...  \n",
       "3  'Ruin the rest of their lives': Donald Trump c...  \n",
       "4  RT @elianayjohnson: Per source, GOP megadonor ...  "
      ]
     },
     "execution_count": 15,
     "metadata": {},
     "output_type": "execute_result"
    }
   ],
   "source": [
    "df_full.head()"
   ]
  },
  {
   "cell_type": "code",
   "execution_count": 16,
   "metadata": {},
   "outputs": [
    {
     "data": {
      "text/plain": [
       "'Make a difference vote! WV Bernie Sanders Could Go 8 Of Next 9 Primaries. https://t.co/Tk5btARUId #StillSanders #DropOutHillary #WVPrimary'"
      ]
     },
     "execution_count": 16,
     "metadata": {},
     "output_type": "execute_result"
    }
   ],
   "source": [
    "df_full.text[0]"
   ]
  },
  {
   "cell_type": "code",
   "execution_count": 17,
   "metadata": {},
   "outputs": [],
   "source": [
    "def get_candidate(row):\n",
    "    candidates = []\n",
    "    text = row[\"text\"].lower()\n",
    "    if \"clinton\" in text or \"hillary\" in text:\n",
    "        candidates.append(\"clinton\")\n",
    "    if \"trump\" in text or \"donald\" in text:\n",
    "        candidates.append(\"trump\")\n",
    "    if \"sanders\" in text or \"bernie\" in text:\n",
    "        candidates.append(\"sanders\")\n",
    "    return \",\".join(candidates)\n",
    "df_full[\"candidate\"] = df_full.apply(get_candidate,axis=1)\n",
    "\n",
    "#df = df_full[df_full.candidate == \"trump\"] #may 2016\n",
    "df_full = df_full[df_full.text.str.startswith(\"RT \")==False].reset_index(drop=True) #filter RTs for the most part"
   ]
  },
  {
   "cell_type": "code",
   "execution_count": 18,
   "metadata": {},
   "outputs": [
    {
     "data": {
      "text/html": [
       "<div>\n",
       "<style scoped>\n",
       "    .dataframe tbody tr th:only-of-type {\n",
       "        vertical-align: middle;\n",
       "    }\n",
       "\n",
       "    .dataframe tbody tr th {\n",
       "        vertical-align: top;\n",
       "    }\n",
       "\n",
       "    .dataframe thead th {\n",
       "        text-align: right;\n",
       "    }\n",
       "</style>\n",
       "<table border=\"1\" class=\"dataframe\">\n",
       "  <thead>\n",
       "    <tr style=\"text-align: right;\">\n",
       "      <th></th>\n",
       "      <th>id</th>\n",
       "      <th>id_str</th>\n",
       "      <th>user_location</th>\n",
       "      <th>user_bg_color</th>\n",
       "      <th>retweet_count</th>\n",
       "      <th>user_name</th>\n",
       "      <th>polarity</th>\n",
       "      <th>created</th>\n",
       "      <th>geo</th>\n",
       "      <th>user_description</th>\n",
       "      <th>user_created</th>\n",
       "      <th>user_followers</th>\n",
       "      <th>coordinates</th>\n",
       "      <th>subjectivity</th>\n",
       "      <th>text</th>\n",
       "      <th>candidate</th>\n",
       "    </tr>\n",
       "  </thead>\n",
       "  <tbody>\n",
       "    <tr>\n",
       "      <td>0</td>\n",
       "      <td>1</td>\n",
       "      <td>729828033092149248</td>\n",
       "      <td>Wheeling WV</td>\n",
       "      <td>022330</td>\n",
       "      <td>0</td>\n",
       "      <td>Jaybo26003</td>\n",
       "      <td>0.0</td>\n",
       "      <td>2016-05-10T00:18:57</td>\n",
       "      <td>NaN</td>\n",
       "      <td>NaN</td>\n",
       "      <td>2011-11-17T02:45:42</td>\n",
       "      <td>39</td>\n",
       "      <td>NaN</td>\n",
       "      <td>0.0</td>\n",
       "      <td>Make a difference vote! WV Bernie Sanders Coul...</td>\n",
       "      <td>clinton,sanders</td>\n",
       "    </tr>\n",
       "    <tr>\n",
       "      <td>1</td>\n",
       "      <td>3</td>\n",
       "      <td>729828033566224384</td>\n",
       "      <td>NaN</td>\n",
       "      <td>C0DEED</td>\n",
       "      <td>0</td>\n",
       "      <td>JeffriesLori</td>\n",
       "      <td>0.0</td>\n",
       "      <td>2016-05-10T00:18:57</td>\n",
       "      <td>NaN</td>\n",
       "      <td>NaN</td>\n",
       "      <td>2012-10-11T14:29:59</td>\n",
       "      <td>42</td>\n",
       "      <td>NaN</td>\n",
       "      <td>0.0</td>\n",
       "      <td>You have no one to blame but yourselves if Tru...</td>\n",
       "      <td>trump</td>\n",
       "    </tr>\n",
       "    <tr>\n",
       "      <td>2</td>\n",
       "      <td>4</td>\n",
       "      <td>729828033893302272</td>\n",
       "      <td>global</td>\n",
       "      <td>C0DEED</td>\n",
       "      <td>0</td>\n",
       "      <td>WhorunsGOVs</td>\n",
       "      <td>0.0</td>\n",
       "      <td>2016-05-10T00:18:57</td>\n",
       "      <td>NaN</td>\n",
       "      <td>Get Latest Global Political news as they unfold</td>\n",
       "      <td>2014-02-16T07:34:24</td>\n",
       "      <td>290</td>\n",
       "      <td>NaN</td>\n",
       "      <td>0.0</td>\n",
       "      <td>'Ruin the rest of their lives': Donald Trump c...</td>\n",
       "      <td>trump</td>\n",
       "    </tr>\n",
       "    <tr>\n",
       "      <td>3</td>\n",
       "      <td>11</td>\n",
       "      <td>729828033939525633</td>\n",
       "      <td>NaN</td>\n",
       "      <td>F5F8FA</td>\n",
       "      <td>0</td>\n",
       "      <td>UghToHillary</td>\n",
       "      <td>0.0</td>\n",
       "      <td>2016-05-10T00:18:57</td>\n",
       "      <td>NaN</td>\n",
       "      <td>NaN</td>\n",
       "      <td>2016-03-20T02:31:39</td>\n",
       "      <td>1351</td>\n",
       "      <td>NaN</td>\n",
       "      <td>0.0</td>\n",
       "      <td>https://t.co/tXn3QV1KNC</td>\n",
       "      <td></td>\n",
       "    </tr>\n",
       "    <tr>\n",
       "      <td>4</td>\n",
       "      <td>14</td>\n",
       "      <td>729828034841333765</td>\n",
       "      <td>Isla Mujeres, Quintana Roo</td>\n",
       "      <td>000000</td>\n",
       "      <td>0</td>\n",
       "      <td>Cata_l1n</td>\n",
       "      <td>0.0</td>\n",
       "      <td>2016-05-10T00:18:57</td>\n",
       "      <td>NaN</td>\n",
       "      <td>El éxito tiene una simple fórmula: da lo mejor...</td>\n",
       "      <td>2014-02-28T05:15:18</td>\n",
       "      <td>153</td>\n",
       "      <td>NaN</td>\n",
       "      <td>0.0</td>\n",
       "      <td>Trump se retracta tras comentarios sobre aumen...</td>\n",
       "      <td>trump</td>\n",
       "    </tr>\n",
       "  </tbody>\n",
       "</table>\n",
       "</div>"
      ],
      "text/plain": [
       "   id              id_str               user_location user_bg_color  \\\n",
       "0   1  729828033092149248                 Wheeling WV        022330   \n",
       "1   3  729828033566224384                         NaN        C0DEED   \n",
       "2   4  729828033893302272                      global        C0DEED   \n",
       "3  11  729828033939525633                         NaN        F5F8FA   \n",
       "4  14  729828034841333765  Isla Mujeres, Quintana Roo        000000   \n",
       "\n",
       "   retweet_count     user_name  polarity              created  geo  \\\n",
       "0              0    Jaybo26003       0.0  2016-05-10T00:18:57  NaN   \n",
       "1              0  JeffriesLori       0.0  2016-05-10T00:18:57  NaN   \n",
       "2              0   WhorunsGOVs       0.0  2016-05-10T00:18:57  NaN   \n",
       "3              0  UghToHillary       0.0  2016-05-10T00:18:57  NaN   \n",
       "4              0      Cata_l1n       0.0  2016-05-10T00:18:57  NaN   \n",
       "\n",
       "                                    user_description         user_created  \\\n",
       "0                                                NaN  2011-11-17T02:45:42   \n",
       "1                                                NaN  2012-10-11T14:29:59   \n",
       "2    Get Latest Global Political news as they unfold  2014-02-16T07:34:24   \n",
       "3                                                NaN  2016-03-20T02:31:39   \n",
       "4  El éxito tiene una simple fórmula: da lo mejor...  2014-02-28T05:15:18   \n",
       "\n",
       "   user_followers coordinates  subjectivity  \\\n",
       "0              39         NaN           0.0   \n",
       "1              42         NaN           0.0   \n",
       "2             290         NaN           0.0   \n",
       "3            1351         NaN           0.0   \n",
       "4             153         NaN           0.0   \n",
       "\n",
       "                                                text        candidate  \n",
       "0  Make a difference vote! WV Bernie Sanders Coul...  clinton,sanders  \n",
       "1  You have no one to blame but yourselves if Tru...            trump  \n",
       "2  'Ruin the rest of their lives': Donald Trump c...            trump  \n",
       "3                            https://t.co/tXn3QV1KNC                   \n",
       "4  Trump se retracta tras comentarios sobre aumen...            trump  "
      ]
     },
     "execution_count": 18,
     "metadata": {},
     "output_type": "execute_result"
    }
   ],
   "source": [
    "df_full.head()"
   ]
  },
  {
   "cell_type": "code",
   "execution_count": 20,
   "metadata": {},
   "outputs": [
    {
     "data": {
      "text/plain": [
       "\"'Ruin the rest of their lives': Donald Trump calls for arrests after wave of protests at rally https://t.co/Aytod0rdHG #howto\""
      ]
     },
     "execution_count": 20,
     "metadata": {},
     "output_type": "execute_result"
    }
   ],
   "source": [
    "df_full.text[2]"
   ]
  },
  {
   "cell_type": "code",
   "execution_count": 22,
   "metadata": {},
   "outputs": [],
   "source": [
    "sentiments = []\n",
    "for tweetText in df_full.text:\n",
    "    cleanedTweet = format_sentence(clean_tweet(tweetText))\n",
    "    sentiments.append(classifier.classify(cleanedTweet))"
   ]
  },
  {
   "cell_type": "code",
   "execution_count": 23,
   "metadata": {},
   "outputs": [
    {
     "name": "stdout",
     "output_type": "stream",
     "text": [
      "37450\n",
      "62109\n"
     ]
    }
   ],
   "source": [
    "df_full[\"Sentiments\"] = sentiments\n",
    "\n",
    "print(len(df_full[df_full.Sentiments == 'pos']))\n",
    "print(len(df_full[df_full.Sentiments == 'neg']))\n"
   ]
  },
  {
   "cell_type": "code",
   "execution_count": 29,
   "metadata": {},
   "outputs": [
    {
     "data": {
      "text/plain": [
       "candidate              Sentiments\n",
       "                       neg            9054\n",
       "                       pos            3555\n",
       "clinton                neg            6574\n",
       "                       pos            3473\n",
       "clinton,sanders        neg            1597\n",
       "                       pos            1003\n",
       "clinton,trump          neg            5382\n",
       "                       pos            3478\n",
       "clinton,trump,sanders  neg             758\n",
       "                       pos             625\n",
       "sanders                neg            5748\n",
       "                       pos            4250\n",
       "trump                  neg           32123\n",
       "                       pos           20385\n",
       "trump,sanders          neg             873\n",
       "                       pos             681\n",
       "Name: id, dtype: int64"
      ]
     },
     "execution_count": 29,
     "metadata": {},
     "output_type": "execute_result"
    }
   ],
   "source": [
    "df_full.groupby([\"candidate\", \"Sentiments\"]).id.count()"
   ]
  },
  {
   "cell_type": "code",
   "execution_count": 40,
   "metadata": {},
   "outputs": [
    {
     "data": {
      "text/plain": [
       "<matplotlib.axes._subplots.AxesSubplot at 0x16aa1758860>"
      ]
     },
     "execution_count": 40,
     "metadata": {},
     "output_type": "execute_result"
    },
    {
     "data": {
      "image/png": "[encoded data removed]",
      "text/plain": [
       "<Figure size 432x288 with 1 Axes>"
      ]
     },
     "metadata": {
      "needs_background": "light"
     },
     "output_type": "display_data"
    }
   ],
   "source": [
    "df_full.groupby([\"candidate\", \"Sentiments\"]).id.count().sort_values(ascending=False).plot(kind=\"bar\", color=\"firebrick\")"
   ]
  },
  {
   "cell_type": "code",
   "execution_count": 30,
   "metadata": {},
   "outputs": [
    {
     "name": "stdout",
     "output_type": "stream",
     "text": [
      "Make a difference vote! WV Bernie Sanders Could Go 8 Of Next 9 Primaries. https://t.co/Tk5btARUId #StillSanders #DropOutHillary #WVPrimary\n",
      "\n",
      "'Ruin the rest of their lives': Donald Trump calls for arrests after wave of protests at rally https://t.co/Aytod0rdHG #howto\n",
      "\n",
      "Trump se retracta tras comentarios sobre aumento de impuestos a ricos en EU https://t.co/48nLJaJHFB\n",
      "\n",
      "Our media represents what the 1% allow on the air and they refuse to give Bernie any real airtime. https://t.co/jQuEwCcAa2\n",
      "\n",
      "Ann Coulter writes book in praise of Donald Trump https://t.co/ZLDh88U3eY\n",
      "\n",
      "You have no one to blame but yourselves if Trump the nominee. He's already said he doesn't need me.\n",
      "So buh-bye.  https://t.co/hM1TjOtVrd\n",
      "\n",
      "https://t.co/tXn3QV1KNC\n",
      "\n",
      "Sad thing is most people are to stupid to know how the economy works. If they did they would run away fast from DT https://t.co/W4WsZbPpLj\n",
      "\n",
      "Need to read up about Filipino politics. Apparently a Trump-like candidate #Duterte won the election in the Philippines.\n",
      "\n",
      "She's such a little person she could never apologize for anything. https://t.co/mGGwrBmYZn\n",
      "\n"
     ]
    }
   ],
   "source": [
    "#Print some tweets\n",
    "for niceTweet in df_full[df_full.Sentiments == 'pos'][\"text\"][0:5]:\n",
    "    print(niceTweet)\n",
    "    print(\"\")\n",
    "\n",
    "\n",
    "for sadTweet in df_full[df_full.Sentiments == 'neg'][\"text\"][0:5]:\n",
    "    print(sadTweet)\n",
    "    print(\"\")"
   ]
  },
  {
   "cell_type": "code",
   "execution_count": 31,
   "metadata": {},
   "outputs": [],
   "source": [
    "sentimentsTB = []\n",
    "for tweetText in df_full.text:\n",
    "    cleanedTweet = clean_tweet(tweetText)\n",
    "    sentiment = TextBlob(cleanedTweet).sentiment.polarity\n",
    "    if sentiment > 0:\n",
    "        sentimentsTB.append(\"pos\")\n",
    "    elif sentiment < 0:\n",
    "        sentimentsTB.append(\"neg\")\n",
    "    elif sentiment == 0:\n",
    "        sentimentsTB.append(\"neu\")"
   ]
  },
  {
   "cell_type": "code",
   "execution_count": 32,
   "metadata": {},
   "outputs": [
    {
     "name": "stdout",
     "output_type": "stream",
     "text": [
      "31926\n",
      "17281\n",
      "50352\n"
     ]
    }
   ],
   "source": [
    "df_full[\"Sentiments_TB\"] = sentimentsTB\n",
    "\n",
    "print(len(df_full[df_full.Sentiments_TB == 'pos']))\n",
    "print(len(df_full[df_full.Sentiments_TB == 'neg']))\n",
    "print(len(df_full[df_full.Sentiments_TB == 'neu']))"
   ]
  },
  {
   "cell_type": "code",
   "execution_count": 33,
   "metadata": {},
   "outputs": [
    {
     "data": {
      "text/plain": [
       "candidate              Sentiments_TB\n",
       "                       neg               1881\n",
       "                       neu               7166\n",
       "                       pos               3562\n",
       "clinton                neg               1871\n",
       "                       neu               4904\n",
       "                       pos               3272\n",
       "clinton,sanders        neg                355\n",
       "                       neu               1255\n",
       "                       pos                990\n",
       "clinton,trump          neg               1983\n",
       "                       neu               4161\n",
       "                       pos               2716\n",
       "clinton,trump,sanders  neg                233\n",
       "                       neu                670\n",
       "                       pos                480\n",
       "sanders                neg               1360\n",
       "                       neu               5032\n",
       "                       pos               3606\n",
       "trump                  neg               9366\n",
       "                       neu              26493\n",
       "                       pos              16649\n",
       "trump,sanders          neg                232\n",
       "                       neu                671\n",
       "                       pos                651\n",
       "Name: id, dtype: int64"
      ]
     },
     "execution_count": 33,
     "metadata": {},
     "output_type": "execute_result"
    }
   ],
   "source": [
    "df_full.groupby([\"candidate\", \"Sentiments_TB\"]).id.count()"
   ]
  },
  {
   "cell_type": "code",
   "execution_count": 41,
   "metadata": {},
   "outputs": [
    {
     "data": {
      "text/plain": [
       "<matplotlib.axes._subplots.AxesSubplot at 0x16aa17e2128>"
      ]
     },
     "execution_count": 41,
     "metadata": {},
     "output_type": "execute_result"
    },
    {
     "data": {
      "image/png": "[encoded data removed]",
      "text/plain": [
       "<Figure size 432x288 with 1 Axes>"
      ]
     },
     "metadata": {
      "needs_background": "light"
     },
     "output_type": "display_data"
    }
   ],
   "source": [
    "df_full.groupby([\"candidate\", \"Sentiments_TB\"]).id.count().sort_values(ascending=False).plot(kind=\"bar\", color=\"firebrick\")"
   ]
  },
  {
   "cell_type": "code",
   "execution_count": 36,
   "metadata": {},
   "outputs": [
    {
     "name": "stdout",
     "output_type": "stream",
     "text": [
      "Need to read up about Filipino politics. Apparently a Trump-like candidate #Duterte won the election in the Philippines.\n",
      "\n",
      "Our media represents what the 1% allow on the air and they refuse to give Bernie any real airtime. https://t.co/jQuEwCcAa2\n",
      "\n",
      "@marklevinshow @KatrinaPierson @realDonaldTrump Trump has more primary votes than Romney received in all of 2012http://usat.ly/26ulc3k\n",
      "\n",
      "HOT TOYS 1/6 MARVEL AVENGERS MMS172 HAWKEYE CLINTON BARTON ACTION FIGURE US - Bid Now! Onl… https://t.co/HkTli2Wszi https://t.co/7fhn5ca2xV\n",
      "\n",
      "@FoxNews @krauthammer krauthammer lost pretty much all my respect I'm not the only one he's a clown after his Trump nonsense\n",
      "\n",
      "Sad thing is most people are to stupid to know how the economy works. If they did they would run away fast from DT https://t.co/W4WsZbPpLj\n",
      "\n",
      "She's such a little person she could never apologize for anything. https://t.co/mGGwrBmYZn\n",
      "\n",
      "hey Chris, remember your JOB, here in NJ ??- - shit for brains Christie - bet on Trump pays off (from @AP) https://t.co/w6NcPSmgQB\n",
      "\n",
      "@camwidener Your personal feelings trump others? Ur need to pee in men's room is such that ur willing to make others uncomfortable? #irony\n",
      "\n",
      "Yes @realDonaldTrump Would Be Worse Than Any Prior Republican Nominee! It Would Be Hell Toupee!! #INPrimary #VOAV https://t.co/jo3hjNjPHz\n",
      "\n"
     ]
    }
   ],
   "source": [
    "for niceTweet in df_full[df_full.Sentiments_TB == 'pos'][\"text\"][0:5]:\n",
    "    print(niceTweet)\n",
    "    print(\"\")\n",
    "\n",
    "\n",
    "for sadTweet in df_full[df_full.Sentiments_TB == 'neg'][\"text\"][0:5]:\n",
    "    print(sadTweet)\n",
    "    print(\"\")\n",
    "    "
   ]
  },
  {
   "cell_type": "code",
   "execution_count": null,
   "metadata": {},
   "outputs": [],
   "source": []
  }
 ],
 "metadata": {
  "kernelspec": {
   "display_name": "Python 3",
   "language": "python",
   "name": "python3"
  },
  "language_info": {
   "codemirror_mode": {
    "name": "ipython",
    "version": 3
   },
   "file_extension": ".py",
   "mimetype": "text/x-python",
   "name": "python",
   "nbconvert_exporter": "python",
   "pygments_lexer": "ipython3",
   "version": "3.7.3"
  }
 },
 "nbformat": 4,
 "nbformat_minor": 2
}
