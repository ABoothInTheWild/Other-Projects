{
 "cells": [
  {
   "cell_type": "code",
   "execution_count": 1,
   "metadata": {},
   "outputs": [],
   "source": [
    "# https://www.datacamp.com/community/tutorials/text-analytics-beginners-nltk"
   ]
  },
  {
   "cell_type": "markdown",
   "metadata": {},
   "source": [
    "# Text Analysis Operations using NLTK\n",
    "\n",
    "NLTK is a powerful Python package that provides a set of diverse natural languages algorithms. \n",
    "\n",
    "It is free, opensource, easy to use, large community, and well documented. NLTK consists of the most common algorithms such as tokenizing, part-of-speech tagging, stemming, sentiment analysis, topic segmentation, and named entity recognition. \n",
    "\n",
    "NLTK helps the computer to analysis, preprocess, and understand the written text."
   ]
  },
  {
   "cell_type": "code",
   "execution_count": 2,
   "metadata": {},
   "outputs": [],
   "source": [
    "import nltk"
   ]
  },
  {
   "cell_type": "markdown",
   "metadata": {},
   "source": [
    "# Tokenization\n",
    "\n",
    "Tokenization is the first step in text analytics. The process of breaking down a text paragraph into smaller chunks such as words or sentence is called Tokenization. \n",
    "\n",
    "Token is a single entity that is building blocks for sentence or paragraph.\n",
    "\n",
    "### Sentence Tokenization\n",
    "\n",
    "Sentence tokenizer breaks paragraph text into sentences."
   ]
  },
  {
   "cell_type": "code",
   "execution_count": 5,
   "metadata": {},
   "outputs": [
    {
     "name": "stdout",
     "output_type": "stream",
     "text": [
      "['Hello Mr. Smith, how are you doing today?', 'The weather is great, and city is awesome.', 'The sky is pinkish-blue.', \"You shouldn't eat cardboard\"]\n"
     ]
    }
   ],
   "source": [
    "from nltk.tokenize import sent_tokenize\n",
    "text=\"\"\"Hello Mr. Smith, how are you doing today?\n",
    "        The weather is great, and city is awesome.\n",
    "        The sky is pinkish-blue. \n",
    "        You shouldn't eat cardboard\n",
    "    \"\"\"\n",
    "tokenized_text=sent_tokenize(text)\n",
    "print(tokenized_text)"
   ]
  },
  {
   "cell_type": "markdown",
   "metadata": {},
   "source": [
    "### Word Tokenization\n",
    "\n",
    "Word tokenizer breaks paragraph text into words."
   ]
  },
  {
   "cell_type": "code",
   "execution_count": 6,
   "metadata": {},
   "outputs": [
    {
     "name": "stdout",
     "output_type": "stream",
     "text": [
      "['Hello', 'Mr.', 'Smith', ',', 'how', 'are', 'you', 'doing', 'today', '?', 'The', 'weather', 'is', 'great', ',', 'and', 'city', 'is', 'awesome', '.', 'The', 'sky', 'is', 'pinkish-blue', '.', 'You', 'should', \"n't\", 'eat', 'cardboard']\n"
     ]
    }
   ],
   "source": [
    "from nltk.tokenize import word_tokenize\n",
    "tokenized_word=word_tokenize(text)\n",
    "print(tokenized_word)"
   ]
  },
  {
   "cell_type": "markdown",
   "metadata": {},
   "source": [
    "### Word Cleaning\n",
    "\n",
    "In most cases, removing punctuation and converting words to lower-case allow for a more robust analysis"
   ]
  },
  {
   "cell_type": "code",
   "execution_count": 43,
   "metadata": {},
   "outputs": [
    {
     "name": "stdout",
     "output_type": "stream",
     "text": [
      "hello mr smith how are you doing today\n",
      "        the weather is great and city is awesome\n",
      "        the sky is pinkishblue \n",
      "        you shouldnt eat cardboard\n",
      "    \n"
     ]
    }
   ],
   "source": [
    "import string\n",
    "def clean_text(text):\n",
    "    return text.translate(str.maketrans('', '', string.punctuation)).lower()\n",
    "\n",
    "cleanText = clean_text(text)\n",
    "print(cleanText)"
   ]
  },
  {
   "cell_type": "code",
   "execution_count": 44,
   "metadata": {},
   "outputs": [
    {
     "name": "stdout",
     "output_type": "stream",
     "text": [
      "['hello', 'mr', 'smith', 'how', 'are', 'you', 'doing', 'today', 'the', 'weather', 'is', 'great', 'and', 'city', 'is', 'awesome', 'the', 'sky', 'is', 'pinkishblue', 'you', 'shouldnt', 'eat', 'cardboard']\n"
     ]
    }
   ],
   "source": [
    "tokenized_word=word_tokenize(cleanText)\n",
    "print(tokenized_word)"
   ]
  },
  {
   "cell_type": "markdown",
   "metadata": {},
   "source": [
    "# Frequency Distribution\n",
    "\n",
    "Once tokenized, we can determine word frequencies"
   ]
  },
  {
   "cell_type": "code",
   "execution_count": 45,
   "metadata": {},
   "outputs": [
    {
     "name": "stdout",
     "output_type": "stream",
     "text": [
      "<FreqDist with 20 samples and 24 outcomes>\n"
     ]
    }
   ],
   "source": [
    "from nltk.probability import FreqDist\n",
    "fdist = FreqDist(tokenized_word)\n",
    "print(fdist)"
   ]
  },
  {
   "cell_type": "code",
   "execution_count": 46,
   "metadata": {},
   "outputs": [
    {
     "data": {
      "text/plain": [
       "[('is', 3), ('you', 2)]"
      ]
     },
     "execution_count": 46,
     "metadata": {},
     "output_type": "execute_result"
    }
   ],
   "source": [
    "fdist.most_common(2)"
   ]
  },
  {
   "cell_type": "code",
   "execution_count": 47,
   "metadata": {},
   "outputs": [
    {
     "data": {
      "image/png": "[encoded data removed]",
      "text/plain": [
       "<Figure size 432x288 with 1 Axes>"
      ]
     },
     "metadata": {
      "needs_background": "light"
     },
     "output_type": "display_data"
    },
    {
     "data": {
      "text/plain": [
       "<matplotlib.axes._subplots.AxesSubplot at 0x17cb37e2630>"
      ]
     },
     "execution_count": 47,
     "metadata": {},
     "output_type": "execute_result"
    }
   ],
   "source": [
    "# Frequency Distribution Plot\n",
    "import matplotlib.pyplot as plt\n",
    "fdist.plot(30,cumulative=False)"
   ]
  },
  {
   "cell_type": "markdown",
   "metadata": {},
   "source": [
    "# Stopwords\n",
    "\n",
    "Stopwords are considered noise in the text. Text may contain \"stopwords\" such as is, am, are, this, a, an, the, etc.\n",
    "\n",
    "In NLTK, to remove stopwords, you need to create a list of stopwords and filter out your list of tokens from these words."
   ]
  },
  {
   "cell_type": "code",
   "execution_count": 48,
   "metadata": {},
   "outputs": [
    {
     "name": "stdout",
     "output_type": "stream",
     "text": [
      "{\"that'll\", 'he', 'while', 'didn', 'not', 'will', \"you'd\", 'it', 'out', 'wouldn', 'so', 'because', 'herself', 'if', 'can', 'and', 'yourselves', 'our', 'this', 'haven', 'was', \"aren't\", \"you've\", 'that', 'won', 'under', 'to', 'there', 'weren', 'hasn', \"weren't\", 'himself', 'such', 'just', 'when', 'yours', 've', 'll', \"won't\", 'off', \"don't\", 'during', 'which', 'once', 'y', 'few', 'after', 'below', 'wasn', 'have', 'their', 'doesn', 're', 'on', 'my', 'hers', 'in', \"hadn't\", 'o', 'only', 'don', 'the', 'mustn', 'before', 'over', 'some', 'nor', \"hasn't\", \"haven't\", 'more', 'or', 'his', 'isn', 'same', 'she', \"shouldn't\", 'being', 'no', 'we', 'yourself', 'am', 'are', 'has', 'by', 'an', 'myself', 'down', 'shouldn', 'itself', 'now', 'how', \"mustn't\", 'doing', 'against', 'each', 'you', 'should', 'with', \"needn't\", 'between', 'from', 'at', 'of', 'those', 'ourselves', 'through', 'mightn', 'him', 'been', 'all', 'be', 'her', 'up', 'but', 'further', \"you'll\", 'what', 'd', 'do', \"she's\", 'own', 'm', 'a', \"couldn't\", 'they', \"didn't\", \"isn't\", 'your', 'why', 'having', 'is', 's', 'theirs', 'ours', 'hadn', \"mightn't\", 'ain', 'both', 'ma', 'themselves', 'above', \"wasn't\", 'me', \"shan't\", 'these', 'shan', 'into', 'again', 't', 'had', 'did', \"it's\", 'them', 'who', 'whom', 'then', \"doesn't\", 'were', 'where', 'other', 'couldn', 'until', 'for', \"wouldn't\", \"you're\", \"should've\", 'very', 'aren', 'its', 'any', 'does', 'here', 'than', 'i', 'as', 'about', 'needn', 'most', 'too'}\n"
     ]
    }
   ],
   "source": [
    "from nltk.corpus import stopwords\n",
    "stop_words=set(stopwords.words(\"english\"))\n",
    "print(stop_words)"
   ]
  },
  {
   "cell_type": "code",
   "execution_count": 49,
   "metadata": {},
   "outputs": [
    {
     "name": "stdout",
     "output_type": "stream",
     "text": [
      "The number of stop words provided by NLTK is: 179\n"
     ]
    }
   ],
   "source": [
    "print(\"The number of stop words provided by NLTK is: \" + str(len(stop_words)))"
   ]
  },
  {
   "cell_type": "code",
   "execution_count": 50,
   "metadata": {},
   "outputs": [
    {
     "name": "stdout",
     "output_type": "stream",
     "text": [
      "Tokenized Text: ['hello', 'mr', 'smith', 'how', 'are', 'you', 'doing', 'today', 'the', 'weather', 'is', 'great', 'and', 'city', 'is', 'awesome', 'the', 'sky', 'is', 'pinkishblue', 'you', 'shouldnt', 'eat', 'cardboard']\n",
      "\n",
      "\n",
      "Filterd Text: ['hello', 'mr', 'smith', 'today', 'weather', 'great', 'city', 'awesome', 'sky', 'pinkishblue', 'shouldnt', 'eat', 'cardboard']\n"
     ]
    }
   ],
   "source": [
    "filtered_sent=[]\n",
    "for w in tokenized_word:\n",
    "    if w not in stop_words:\n",
    "        filtered_sent.append(w)\n",
    "print(\"Tokenized Text:\",tokenized_word)\n",
    "print(\"\\n\")\n",
    "print(\"Filterd Text:\",filtered_sent)"
   ]
  },
  {
   "cell_type": "markdown",
   "metadata": {},
   "source": [
    "# Text Normalization\n",
    "\n",
    "Text normalization considers another type of noise in the text. \n",
    "\n",
    "For example, *connection*, *connected*, and *connecting* all reduce to the common word *connect*. Normalization reduces  related forms of a word to a common root word. This can be done via Stemming or Lemmatization.\n",
    "\n",
    "### Stemming\n",
    "\n",
    "Stemming is a process of linguistic normalization, which reduces words to their word root word or chops off the derivational affixes. For example, the stem of *connection*, *connected*, and *connecting* is \"connect\"."
   ]
  },
  {
   "cell_type": "code",
   "execution_count": 52,
   "metadata": {},
   "outputs": [
    {
     "name": "stdout",
     "output_type": "stream",
     "text": [
      "Stemmed Sentence: ['cook', 'eat', 'and', 'walk', 'are', 'thing', 'vinesh', 'is', 'current', 'do', 'yesterday', 'he', 'cook', 'ate', 'and', 'walk']\n"
     ]
    }
   ],
   "source": [
    "from nltk.stem import PorterStemmer\n",
    "\n",
    "ps = PorterStemmer()\n",
    "test_sentence = \"Cooking, eating, and walking are things Vinesh is currently doing. Yesterday, he cooked, ate, and walked.\"\n",
    "\n",
    "cleanSentence = clean_text(test_sentence)\n",
    "tokenTest = word_tokenize(cleanSentence)\n",
    "\n",
    "stemmed_words=[]\n",
    "for w in tokenTest:\n",
    "    stemmed_words.append(ps.stem(w))\n",
    "    \n",
    "print(\"Stemmed Sentence:\", stemmed_words)"
   ]
  },
  {
   "cell_type": "code",
   "execution_count": 53,
   "metadata": {},
   "outputs": [
    {
     "name": "stdout",
     "output_type": "stream",
     "text": [
      "[('cook', 2), ('and', 2), ('walk', 2), ('eat', 1), ('are', 1)]\n"
     ]
    }
   ],
   "source": [
    "fdist2 = FreqDist(stemmed_words)\n",
    "print(fdist2.most_common(5))"
   ]
  },
  {
   "cell_type": "code",
   "execution_count": 29,
   "metadata": {},
   "outputs": [],
   "source": [
    "# notice that eating and ate were not normalized."
   ]
  },
  {
   "cell_type": "markdown",
   "metadata": {},
   "source": [
    "### Lemmatization\n",
    "\n",
    "Lemmatization reduces words to their base word, which is linguistically correct lemmas. \n",
    "\n",
    "It transforms to root word with the use of vocabulary and morphological analysis. Lemmatization is usually more sophisticated than stemming. While stemming simply chops off the \"-ing\" or \"-ed\", lemmatization essentially performs a dictionary look-up."
   ]
  },
  {
   "cell_type": "code",
   "execution_count": 54,
   "metadata": {},
   "outputs": [
    {
     "name": "stdout",
     "output_type": "stream",
     "text": [
      "Lemmatized Sentence: ['cook', 'eat', 'and', 'walk', 'be', 'things', 'vinesh', 'be', 'currently', 'do', 'yesterday', 'he', 'cook', 'eat', 'and', 'walk']\n"
     ]
    }
   ],
   "source": [
    "from nltk.stem.wordnet import WordNetLemmatizer\n",
    "lem = WordNetLemmatizer()\n",
    "\n",
    "test_sentence = \"Cooking, eating, and walking are things Vinesh is currently doing. Yesterday, he cooked, ate, and walked.\"\n",
    "cleanSentence = clean_text(test_sentence)\n",
    "tokenTest = word_tokenize(cleanSentence)\n",
    "\n",
    "lemma_words=[]\n",
    "for w in tokenTest:\n",
    "    lemma_words.append(lem.lemmatize(w,\"v\"))\n",
    "    \n",
    "print(\"Lemmatized Sentence:\", lemma_words)"
   ]
  },
  {
   "cell_type": "code",
   "execution_count": 56,
   "metadata": {},
   "outputs": [
    {
     "name": "stdout",
     "output_type": "stream",
     "text": [
      "[('cook', 2), ('eat', 2), ('and', 2), ('walk', 2), ('be', 2)]\n"
     ]
    }
   ],
   "source": [
    "fdist3 = FreqDist(lemma_words)\n",
    "print(fdist3.most_common(5))"
   ]
  },
  {
   "cell_type": "markdown",
   "metadata": {},
   "source": [
    "### POS Tagging\n",
    "\n",
    "The primary objective of Part-of-Speech (POS) tagging is to identify the grammatical group of a given word, for exampe, whether it is a *NOUN*, *PRONOUN*, *ADJECTIVE*, *VERB*, *ADVERBS*, etc. based on the context. \n",
    "\n",
    "POS Tagging looks for relationships within the sentence and assigns a corresponding tag to the word."
   ]
  },
  {
   "cell_type": "code",
   "execution_count": 62,
   "metadata": {},
   "outputs": [
    {
     "data": {
      "text/plain": [
       "[('Albert', 'NNP'),\n",
       " ('Einstein', 'NNP'),\n",
       " ('was', 'VBD'),\n",
       " ('born', 'VBN'),\n",
       " ('in', 'IN'),\n",
       " ('Ulm', 'NNP'),\n",
       " (',', ','),\n",
       " ('Germany', 'NNP'),\n",
       " ('in', 'IN'),\n",
       " ('1879', 'CD'),\n",
       " ('.', '.')]"
      ]
     },
     "execution_count": 62,
     "metadata": {},
     "output_type": "execute_result"
    }
   ],
   "source": [
    "pos_sentence = \"Albert Einstein was born in Ulm, Germany in 1879.\"\n",
    "\n",
    "# Need to keep capitalization for proper nouns\n",
    "#cleanSentence = clean_text(pos_sentence)\n",
    "tokenTest = word_tokenize(pos_sentence)\n",
    "nltk.pos_tag(tokenTest)"
   ]
  },
  {
   "cell_type": "code",
   "execution_count": 81,
   "metadata": {},
   "outputs": [
    {
     "data": {
      "text/plain": [
       "'n'"
      ]
     },
     "execution_count": 81,
     "metadata": {},
     "output_type": "execute_result"
    }
   ],
   "source": [
    "nltk.pos_tag([\"passions\"])[0][1][0].lower()"
   ]
  },
  {
   "cell_type": "markdown",
   "metadata": {},
   "source": [
    "### POS tag list:\n",
    "\n",
    "- CC coordinating conjunction\n",
    "- CD cardinal digit\n",
    "- DT determiner\n",
    "- EX existential there (like: \"there is\" ... think of it like \"there exists\")\n",
    "- FW foreign word\n",
    "- IN preposition/subordinating conjunction\n",
    "- JJ adjective 'big'\n",
    "- JJR adjective, comparative 'bigger'\n",
    "- JJS adjective, superlative 'biggest'\n",
    "- LS list marker 1)\n",
    "- MD modal could, will\n",
    "- NN noun, singular 'desk'\n",
    "- NNS noun plural 'desks'\n",
    "- NNP proper noun, singular 'Harrison'\n",
    "- NNPS proper noun, plural 'Americans'\n",
    "- PDT predeterminer 'all the kids'\n",
    "- POS possessive ending parent's\n",
    "- PRP personal pronoun I, he, she\n",
    "- PRPs possessive pronoun my, his, hers\n",
    "- RB adverb very, silently,\n",
    "- RBR adverb, comparative better\n",
    "- RBS adverb, superlative best\n",
    "- RP particle give up\n",
    "- TO to go 'to' the store.\n",
    "- UH interjection errrrrrrrm\n",
    "- VB verb, base form take\n",
    "- VBD verb, past tense took\n",
    "- VBG verb, gerund/present participle taking\n",
    "- VBN verb, past participle taken\n",
    "- VBP verb, sing. present, non-3d take\n",
    "- VBZ verb, 3rd person sing. present takes\n",
    "- WDT wh-determiner which\n",
    "- WP wh-pronoun who, what\n",
    "- WPs possessive wh-pronoun whose\n",
    "- WRB wh-abverb where, when"
   ]
  },
  {
   "cell_type": "markdown",
   "metadata": {},
   "source": [
    "# Feature Generation\n",
    "\n",
    "To train a model, we need to convert strings of text to numbers. Various ways to do this include word counts, tf^idf, and sentiment analysis.\n",
    "\n",
    "### Feature Generation using Word Counts\n",
    "First, one can create a matrix of document and words by counting the occurrence of words in the given document. This matrix is known as Document-Term Matrix (DTM)."
   ]
  },
  {
   "cell_type": "code",
   "execution_count": 119,
   "metadata": {},
   "outputs": [],
   "source": [
    "phrase1 = \"I have passions and love for all dogs.\" \n",
    "phrase2 = \"I hate this dog and that dog and passions for hobbies.\" \n",
    "phrase3 = \"Knitting is my hobby and passion.\"\n",
    "\n",
    "phrases = [phrase1, phrase2, phrase3]"
   ]
  },
  {
   "cell_type": "code",
   "execution_count": 127,
   "metadata": {},
   "outputs": [
    {
     "name": "stdout",
     "output_type": "stream",
     "text": [
      "['passion love dog', 'hate dog dog passion hobby', 'knit hobby passion']\n"
     ]
    }
   ],
   "source": [
    "lemmaMatrix = []\n",
    "\n",
    "for sentence in phrases:\n",
    "    lemma_words=[]\n",
    "    cleanSentence = clean_text(sentence)\n",
    "    tokenTest = word_tokenize(cleanSentence)\n",
    "    \n",
    "    for word in tokenTest:\n",
    "        #check stop words\n",
    "        if word not in stop_words:      \n",
    "            #get part of speech\n",
    "            pos = nltk.pos_tag([word])[0][1][0].lower()\n",
    "            if pos == \"n\": #noun lemma\n",
    "                lemma_words.append(lem.lemmatize(word,\"n\"))\n",
    "            else: #verb lemma\n",
    "                lemma_words.append(lem.lemmatize(word,\"v\"))\n",
    "        \n",
    "    lemmaMatrix.append(lemma_words)\n",
    "\n",
    "#Rejoin strings and print\n",
    "rebuiltLemmas = [\" \".join(x) for x in lemmaMatrix]\n",
    "print(rebuiltLemmas)"
   ]
  },
  {
   "cell_type": "code",
   "execution_count": 122,
   "metadata": {},
   "outputs": [],
   "source": [
    "from sklearn.feature_extraction.text import CountVectorizer\n",
    "import pandas as pd\n",
    "\n",
    "cv = CountVectorizer(stop_words='english')\n",
    "text_counts= cv.fit_transform(rebuiltLemmas)"
   ]
  },
  {
   "cell_type": "code",
   "execution_count": 123,
   "metadata": {},
   "outputs": [
    {
     "name": "stdout",
     "output_type": "stream",
     "text": [
      "['dog', 'hate', 'hobby', 'knit', 'love', 'passion']\n"
     ]
    }
   ],
   "source": [
    "print(cv.get_feature_names())"
   ]
  },
  {
   "cell_type": "code",
   "execution_count": 124,
   "metadata": {},
   "outputs": [
    {
     "name": "stdout",
     "output_type": "stream",
     "text": [
      "[[1 0 0 0 1 1]\n",
      " [2 1 1 0 0 1]\n",
      " [0 0 1 1 0 1]]\n"
     ]
    }
   ],
   "source": [
    "print(text_counts.toarray())"
   ]
  },
  {
   "cell_type": "code",
   "execution_count": 126,
   "metadata": {},
   "outputs": [
    {
     "data": {
      "text/html": [
       "<div>\n",
       "<style scoped>\n",
       "    .dataframe tbody tr th:only-of-type {\n",
       "        vertical-align: middle;\n",
       "    }\n",
       "\n",
       "    .dataframe tbody tr th {\n",
       "        vertical-align: top;\n",
       "    }\n",
       "\n",
       "    .dataframe thead th {\n",
       "        text-align: right;\n",
       "    }\n",
       "</style>\n",
       "<table border=\"1\" class=\"dataframe\">\n",
       "  <thead>\n",
       "    <tr style=\"text-align: right;\">\n",
       "      <th></th>\n",
       "      <th>dog</th>\n",
       "      <th>hate</th>\n",
       "      <th>hobby</th>\n",
       "      <th>knit</th>\n",
       "      <th>love</th>\n",
       "      <th>passion</th>\n",
       "    </tr>\n",
       "  </thead>\n",
       "  <tbody>\n",
       "    <tr>\n",
       "      <td>0</td>\n",
       "      <td>1</td>\n",
       "      <td>0</td>\n",
       "      <td>0</td>\n",
       "      <td>0</td>\n",
       "      <td>1</td>\n",
       "      <td>1</td>\n",
       "    </tr>\n",
       "    <tr>\n",
       "      <td>1</td>\n",
       "      <td>2</td>\n",
       "      <td>1</td>\n",
       "      <td>1</td>\n",
       "      <td>0</td>\n",
       "      <td>0</td>\n",
       "      <td>1</td>\n",
       "    </tr>\n",
       "    <tr>\n",
       "      <td>2</td>\n",
       "      <td>0</td>\n",
       "      <td>0</td>\n",
       "      <td>1</td>\n",
       "      <td>1</td>\n",
       "      <td>0</td>\n",
       "      <td>1</td>\n",
       "    </tr>\n",
       "  </tbody>\n",
       "</table>\n",
       "</div>"
      ],
      "text/plain": [
       "   dog  hate  hobby  knit  love  passion\n",
       "0    1     0      0     0     1        1\n",
       "1    2     1      1     0     0        1\n",
       "2    0     0      1     1     0        1"
      ]
     },
     "execution_count": 126,
     "metadata": {},
     "output_type": "execute_result"
    }
   ],
   "source": [
    "dtm = pd.DataFrame(text_counts.toarray(), columns=cv.get_feature_names())\n",
    "dtm"
   ]
  },
  {
   "cell_type": "markdown",
   "metadata": {},
   "source": [
    "### Feature Generation using TF-IDF\n",
    "\n",
    "TF-IDF(Term Frequency-Inverse Document Frequency) normalizes the document term matrix. It is the product of TF and IDF. Word with high tf-idf in a document, it is most of the times occurred in given documents and must be absent in the other documents. So the words must be a signature word."
   ]
  },
  {
   "cell_type": "code",
   "execution_count": null,
   "metadata": {},
   "outputs": [],
   "source": []
  }
 ],
 "metadata": {
  "kernelspec": {
   "display_name": "Python 3",
   "language": "python",
   "name": "python3"
  },
  "language_info": {
   "codemirror_mode": {
    "name": "ipython",
    "version": 3
   },
   "file_extension": ".py",
   "mimetype": "text/x-python",
   "name": "python",
   "nbconvert_exporter": "python",
   "pygments_lexer": "ipython3",
   "version": "3.7.3"
  }
 },
 "nbformat": 4,
 "nbformat_minor": 2
}
