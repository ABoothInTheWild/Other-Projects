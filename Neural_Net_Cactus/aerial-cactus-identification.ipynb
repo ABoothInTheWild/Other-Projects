{
 "cells": [
  {
   "cell_type": "code",
   "execution_count": 5,
   "metadata": {},
   "outputs": [
    {
     "data": {
      "text/html": [
       "<style>.container { width:93% !important; }</style>"
      ],
      "text/plain": [
       "<IPython.core.display.HTML object>"
      ]
     },
     "metadata": {},
     "output_type": "display_data"
    }
   ],
   "source": [
    "from IPython.core.display import display, HTML\n",
    "display(HTML(\"<style>.container { width:93% !important; }</style>\"))"
   ]
  },
  {
   "cell_type": "code",
   "execution_count": 10,
   "metadata": {},
   "outputs": [],
   "source": [
    "import numpy as np # linear algebra\n",
    "import pandas as pd # data processing, CSV file I/O (e.g. pd.read_csv)\n",
    "pd.set_option('display.max_columns', None)\n",
    "import os\n",
    "from os.path import join"
   ]
  },
  {
   "cell_type": "markdown",
   "metadata": {},
   "source": [
    "# Read in Data"
   ]
  },
  {
   "cell_type": "code",
   "execution_count": 9,
   "metadata": {},
   "outputs": [
    {
     "name": "stdout",
     "output_type": "stream",
     "text": [
      "17500\n"
     ]
    },
    {
     "data": {
      "text/html": [
       "<div>\n",
       "<style scoped>\n",
       "    .dataframe tbody tr th:only-of-type {\n",
       "        vertical-align: middle;\n",
       "    }\n",
       "\n",
       "    .dataframe tbody tr th {\n",
       "        vertical-align: top;\n",
       "    }\n",
       "\n",
       "    .dataframe thead th {\n",
       "        text-align: right;\n",
       "    }\n",
       "</style>\n",
       "<table border=\"1\" class=\"dataframe\">\n",
       "  <thead>\n",
       "    <tr style=\"text-align: right;\">\n",
       "      <th></th>\n",
       "      <th>id</th>\n",
       "      <th>has_cactus</th>\n",
       "    </tr>\n",
       "  </thead>\n",
       "  <tbody>\n",
       "    <tr>\n",
       "      <td>0</td>\n",
       "      <td>0004be2cfeaba1c0361d39e2b000257b.jpg</td>\n",
       "      <td>1</td>\n",
       "    </tr>\n",
       "    <tr>\n",
       "      <td>1</td>\n",
       "      <td>000c8a36845c0208e833c79c1bffedd1.jpg</td>\n",
       "      <td>1</td>\n",
       "    </tr>\n",
       "    <tr>\n",
       "      <td>2</td>\n",
       "      <td>000d1e9a533f62e55c289303b072733d.jpg</td>\n",
       "      <td>1</td>\n",
       "    </tr>\n",
       "    <tr>\n",
       "      <td>3</td>\n",
       "      <td>0011485b40695e9138e92d0b3fb55128.jpg</td>\n",
       "      <td>1</td>\n",
       "    </tr>\n",
       "    <tr>\n",
       "      <td>4</td>\n",
       "      <td>0014d7a11e90b62848904c1418fc8cf2.jpg</td>\n",
       "      <td>1</td>\n",
       "    </tr>\n",
       "  </tbody>\n",
       "</table>\n",
       "</div>"
      ],
      "text/plain": [
       "                                     id  has_cactus\n",
       "0  0004be2cfeaba1c0361d39e2b000257b.jpg           1\n",
       "1  000c8a36845c0208e833c79c1bffedd1.jpg           1\n",
       "2  000d1e9a533f62e55c289303b072733d.jpg           1\n",
       "3  0011485b40695e9138e92d0b3fb55128.jpg           1\n",
       "4  0014d7a11e90b62848904c1418fc8cf2.jpg           1"
      ]
     },
     "execution_count": 9,
     "metadata": {},
     "output_type": "execute_result"
    }
   ],
   "source": [
    "train = pd.read_csv(\"input/train.csv\")\n",
    "print(len(train))\n",
    "train.head()"
   ]
  },
  {
   "cell_type": "code",
   "execution_count": 8,
   "metadata": {},
   "outputs": [],
   "source": [
    "from sklearn.model_selection import train_test_split\n",
    "from tensorflow import keras\n",
    "\n",
    "X_train, X_val, Y_train, Y_val = train_test_split(train.id, train.has_cactus, test_size=0.2)"
   ]
  },
  {
   "cell_type": "code",
   "execution_count": 19,
   "metadata": {},
   "outputs": [
    {
     "data": {
      "text/plain": [
       "['input\\\\train\\\\6f1e6b1dfd72bc03d9c2440439fcee0f.jpg',\n",
       " 'input\\\\train\\\\b4ffc7ecd0a1c4a87985e06d0ec13b4a.jpg',\n",
       " 'input\\\\train\\\\2f0eea816de78ade99a8f4be0a24752c.jpg',\n",
       " 'input\\\\train\\\\3a401c6124e92b9ef607f23ac3815cad.jpg',\n",
       " 'input\\\\train\\\\3056cd5b00153e9570cedada0843f1ab.jpg']"
      ]
     },
     "execution_count": 19,
     "metadata": {},
     "output_type": "execute_result"
    }
   ],
   "source": [
    "#load training images\n",
    "catctus_dir = 'input\\\\train'\n",
    "\n",
    "#get full image paths for train/val\n",
    "train_paths = [join(catctus_dir,filename) for filename in X_train]\n",
    "val_paths = [join(catctus_dir,filename) for filename in X_val]\n",
    "\n",
    "train_paths[0:5]"
   ]
  },
  {
   "cell_type": "code",
   "execution_count": 59,
   "metadata": {},
   "outputs": [
    {
     "data": {
      "image/jpeg": "[encoded data removed]",
      "text/plain": [
       "<IPython.core.display.Image object>"
      ]
     },
     "metadata": {
      "image/jpeg": {
       "height": 200,
       "width": 200
      }
     },
     "output_type": "display_data"
    },
    {
     "data": {
      "image/jpeg": "[encoded data removed]",
      "text/plain": [
       "<IPython.core.display.Image object>"
      ]
     },
     "metadata": {
      "image/jpeg": {
       "height": 200,
       "width": 200
      }
     },
     "output_type": "display_data"
    },
    {
     "data": {
      "image/jpeg": "[encoded data removed]",
      "text/plain": [
       "<IPython.core.display.Image object>"
      ]
     },
     "metadata": {
      "image/jpeg": {
       "height": 200,
       "width": 200
      }
     },
     "output_type": "display_data"
    },
    {
     "data": {
      "image/jpeg": "[encoded data removed]",
      "text/plain": [
       "<IPython.core.display.Image object>"
      ]
     },
     "metadata": {
      "image/jpeg": {
       "height": 200,
       "width": 200
      }
     },
     "output_type": "display_data"
    },
    {
     "data": {
      "image/jpeg": "[encoded data removed]",
      "text/plain": [
       "<IPython.core.display.Image object>"
      ]
     },
     "metadata": {
      "image/jpeg": {
       "height": 200,
       "width": 200
      }
     },
     "output_type": "display_data"
    }
   ],
   "source": [
    "from IPython.display import Image, display\n",
    "for i, img_path in enumerate(train_paths[0:5]):\n",
    "    display(Image(img_path, width=200, height=200))\n",
    "#yup, those are cacti"
   ]
  },
  {
   "cell_type": "code",
   "execution_count": 26,
   "metadata": {},
   "outputs": [],
   "source": [
    "from tensorflow.keras.preprocessing.image import load_img, img_to_array\n",
    "\n",
    "#image size\n",
    "img_rows, img_cols, image_size = 32, 32, 32\n",
    "\n",
    "def read_and_prep_images(img_paths, img_height=image_size, img_width=image_size):\n",
    "    #avoid too many open files\n",
    "    img_array = []\n",
    "    for img_path in img_paths:\n",
    "        img = load_img(img_path, target_size=(img_height, img_width))\n",
    "        img_array.append(img_to_array(img))\n",
    "        img.close() \n",
    "        \n",
    "#     imgs = [load_img(img_path, target_size=(img_height, img_width)) for img_path in img_paths]\n",
    "#     img_array = np.array([img_to_array(img) for img in imgs])\n",
    "    output = prep_data(np.array(img_array))\n",
    "    return(output)\n",
    "\n",
    "#training data has its labels already split out\n",
    "def prep_data(raw):\n",
    "    x = raw[:,0:]\n",
    "    num_images = raw.shape[0]\n",
    "    out_x = x.reshape(num_images, img_rows, img_cols, 3)\n",
    "    out_x = out_x / 255\n",
    "    return out_x"
   ]
  },
  {
   "cell_type": "code",
   "execution_count": 27,
   "metadata": {},
   "outputs": [],
   "source": [
    "train_data = read_and_prep_images(train_paths)\n",
    "val_data = read_and_prep_images(val_paths)"
   ]
  },
  {
   "cell_type": "code",
   "execution_count": 28,
   "metadata": {},
   "outputs": [
    {
     "data": {
      "text/plain": [
       "(14000, 32, 32, 3)"
      ]
     },
     "execution_count": 28,
     "metadata": {},
     "output_type": "execute_result"
    }
   ],
   "source": [
    "np.shape(train_data) #14000 train images, 3,500 val images"
   ]
  },
  {
   "cell_type": "code",
   "execution_count": 29,
   "metadata": {},
   "outputs": [],
   "source": [
    "from tensorflow import keras\n",
    "#cactus or no\n",
    "num_classes = 2\n",
    "\n",
    "train_labels = keras.utils.to_categorical(Y_train, num_classes)\n",
    "val_labels = keras.utils.to_categorical(Y_val, num_classes)"
   ]
  },
  {
   "cell_type": "code",
   "execution_count": 60,
   "metadata": {},
   "outputs": [
    {
     "data": {
      "image/png": "[encoded data removed]",
      "text/plain": [
       "<Figure size 432x288 with 1 Axes>"
      ]
     },
     "metadata": {
      "needs_background": "light"
     },
     "output_type": "display_data"
    },
    {
     "data": {
      "image/png": "[encoded data removed]",
      "text/plain": [
       "<Figure size 432x288 with 1 Axes>"
      ]
     },
     "metadata": {
      "needs_background": "light"
     },
     "output_type": "display_data"
    },
    {
     "data": {
      "image/png": "[encoded data removed]",
      "text/plain": [
       "<Figure size 432x288 with 1 Axes>"
      ]
     },
     "metadata": {
      "needs_background": "light"
     },
     "output_type": "display_data"
    },
    {
     "data": {
      "image/png": "[encoded data removed]",
      "text/plain": [
       "<Figure size 432x288 with 1 Axes>"
      ]
     },
     "metadata": {
      "needs_background": "light"
     },
     "output_type": "display_data"
    },
    {
     "data": {
      "image/png": "[encoded data removed]",
      "text/plain": [
       "<Figure size 432x288 with 1 Axes>"
      ]
     },
     "metadata": {
      "needs_background": "light"
     },
     "output_type": "display_data"
    },
    {
     "data": {
      "image/png": "[encoded data removed]",
      "text/plain": [
       "<Figure size 432x288 with 1 Axes>"
      ]
     },
     "metadata": {
      "needs_background": "light"
     },
     "output_type": "display_data"
    },
    {
     "data": {
      "image/png": "[encoded data removed]",
      "text/plain": [
       "<Figure size 432x288 with 1 Axes>"
      ]
     },
     "metadata": {
      "needs_background": "light"
     },
     "output_type": "display_data"
    },
    {
     "data": {
      "image/png": "[encoded data removed]",
      "text/plain": [
       "<Figure size 432x288 with 1 Axes>"
      ]
     },
     "metadata": {
      "needs_background": "light"
     },
     "output_type": "display_data"
    },
    {
     "data": {
      "image/png": "[encoded data removed]",
      "text/plain": [
       "<Figure size 432x288 with 1 Axes>"
      ]
     },
     "metadata": {
      "needs_background": "light"
     },
     "output_type": "display_data"
    },
    {
     "data": {
      "image/png": "[encoded data removed]",
      "text/plain": [
       "<Figure size 432x288 with 1 Axes>"
      ]
     },
     "metadata": {
      "needs_background": "light"
     },
     "output_type": "display_data"
    },
    {
     "data": {
      "image/png": "[encoded data removed]",
      "text/plain": [
       "<Figure size 432x288 with 1 Axes>"
      ]
     },
     "metadata": {
      "needs_background": "light"
     },
     "output_type": "display_data"
    },
    {
     "data": {
      "image/png": "[encoded data removed]",
      "text/plain": [
       "<Figure size 432x288 with 1 Axes>"
      ]
     },
     "metadata": {
      "needs_background": "light"
     },
     "output_type": "display_data"
    }
   ],
   "source": [
    "import matplotlib.pyplot as plt\n",
    "\n",
    "#view a couple of the training images\n",
    "for i in range(1,13):\n",
    "    plt.subplot(3,4,i)\n",
    "    plt.imshow(train_data[i-1])\n",
    "    plt.show()\n",
    "#moar cacti"
   ]
  },
  {
   "cell_type": "markdown",
   "metadata": {},
   "source": [
    "# Basic Convoluted Neural Net"
   ]
  },
  {
   "cell_type": "code",
   "execution_count": 31,
   "metadata": {},
   "outputs": [],
   "source": [
    "from tensorflow.keras.models import Sequential\n",
    "from tensorflow.keras.layers import Dense, Flatten, Conv2D\n",
    "\n",
    "#build the model\n",
    "cactus_model = Sequential()\n",
    "cactus_model.add(Conv2D(12, kernel_size=(3, 3),\n",
    "                 activation='relu',\n",
    "                 input_shape=(img_rows, img_cols, 3))) #activation layer\n",
    "\n",
    "#additional learning layers\n",
    "cactus_model.add(Conv2D(20, kernel_size=(3, 3), padding='valid', activation='relu'))\n",
    "cactus_model.add(Conv2D(20, kernel_size=(3, 3), padding='valid', activation='relu'))\n",
    "cactus_model.add(Conv2D(20, kernel_size=(3, 3), padding='valid', activation='relu'))\n",
    "cactus_model.add(Conv2D(20, kernel_size=(3, 3), padding='valid', activation='relu'))\n",
    "\n",
    "#final prediction layers\n",
    "cactus_model.add(Flatten())\n",
    "cactus_model.add(Dense(100, activation='relu'))\n",
    "cactus_model.add(Dense(num_classes, activation='softmax'))\n",
    "\n",
    "#compile the model\n",
    "cactus_model.compile(loss=keras.losses.categorical_crossentropy,\n",
    "              optimizer='adam',\n",
    "              metrics=['accuracy'])"
   ]
  },
  {
   "cell_type": "code",
   "execution_count": 32,
   "metadata": {},
   "outputs": [
    {
     "name": "stdout",
     "output_type": "stream",
     "text": [
      "Train on 14000 samples, validate on 3500 samples\n",
      "Epoch 1/10\n",
      "14000/14000 [==============================] - 24s 2ms/sample - loss: 0.2975 - accuracy: 0.8821 - val_loss: 0.2005 - val_accuracy: 0.9337\n",
      "Epoch 2/10\n",
      "14000/14000 [==============================] - 27s 2ms/sample - loss: 0.1323 - accuracy: 0.9484 - val_loss: 0.0934 - val_accuracy: 0.9654\n",
      "Epoch 3/10\n",
      "14000/14000 [==============================] - 25s 2ms/sample - loss: 0.1036 - accuracy: 0.9601 - val_loss: 0.0745 - val_accuracy: 0.9777\n",
      "Epoch 4/10\n",
      "14000/14000 [==============================] - 26s 2ms/sample - loss: 0.0711 - accuracy: 0.9741 - val_loss: 0.0634 - val_accuracy: 0.9754\n",
      "Epoch 5/10\n",
      "14000/14000 [==============================] - 25s 2ms/sample - loss: 0.1026 - accuracy: 0.9640 - val_loss: 0.0681 - val_accuracy: 0.9797\n",
      "Epoch 6/10\n",
      "14000/14000 [==============================] - 25s 2ms/sample - loss: 0.0471 - accuracy: 0.9832 - val_loss: 0.0691 - val_accuracy: 0.9783\n",
      "Epoch 7/10\n",
      "14000/14000 [==============================] - 25s 2ms/sample - loss: 0.0403 - accuracy: 0.9846 - val_loss: 0.0894 - val_accuracy: 0.9674\n",
      "Epoch 8/10\n",
      "14000/14000 [==============================] - 28s 2ms/sample - loss: 0.0383 - accuracy: 0.9867 - val_loss: 0.0390 - val_accuracy: 0.9854\n",
      "Epoch 9/10\n",
      "14000/14000 [==============================] - 24s 2ms/sample - loss: 0.0234 - accuracy: 0.9922 - val_loss: 0.0379 - val_accuracy: 0.9857\n",
      "Epoch 10/10\n",
      "14000/14000 [==============================] - 24s 2ms/sample - loss: 0.0214 - accuracy: 0.9925 - val_loss: 0.0366 - val_accuracy: 0.9891\n"
     ]
    }
   ],
   "source": [
    "#initial fit with validation\n",
    "history = cactus_model.fit(train_data, train_labels,\n",
    "          batch_size=100,\n",
    "          epochs=10,\n",
    "          validation_data = (val_data, val_labels))"
   ]
  },
  {
   "cell_type": "code",
   "execution_count": 36,
   "metadata": {},
   "outputs": [
    {
     "data": {
      "image/png": "[encoded data removed]",
      "text/plain": [
       "<Figure size 1080x360 with 2 Axes>"
      ]
     },
     "metadata": {
      "needs_background": "light"
     },
     "output_type": "display_data"
    }
   ],
   "source": [
    "#https://www.kaggle.com/pheaboo/simple-cnn-trained-from-scratch\n",
    "plt.figure(figsize=(15,5))\n",
    "\n",
    "plt.subplot(141)\n",
    "plt.plot(history.history['loss'], label='training')\n",
    "plt.plot(history.history['val_loss'], label='validation')\n",
    "plt.xlabel('# Epochs')\n",
    "plt.legend()\n",
    "plt.ylabel(\"Loss - Binary Cross Entropy\")\n",
    "plt.title('Loss Evolution')\n",
    "\n",
    "plt.subplot(142)\n",
    "plt.plot(history.history['accuracy'], label='training')\n",
    "plt.plot(history.history['val_accuracy'], label='validation')\n",
    "plt.xlabel('# Epochs')\n",
    "plt.ylabel(\"Accuracy\")\n",
    "plt.legend()\n",
    "plt.title('Accuracy Evolution')\n",
    "plt.show()"
   ]
  },
  {
   "cell_type": "markdown",
   "metadata": {},
   "source": [
    "# Try an Augmented Model (Train on rotated and scaled images for additional learning)"
   ]
  },
  {
   "cell_type": "code",
   "execution_count": 37,
   "metadata": {},
   "outputs": [],
   "source": [
    "#build the model, same as above\n",
    "cactus_model_aug = Sequential()\n",
    "cactus_model_aug.add(Conv2D(12, kernel_size=(3, 3),\n",
    "                 activation='relu',\n",
    "                 input_shape=(img_rows, img_cols, 3))) #activation layer\n",
    "\n",
    "#additional learning layers\n",
    "cactus_model_aug.add(Conv2D(20, kernel_size=(3, 3), activation='relu'))\n",
    "cactus_model_aug.add(Conv2D(20, kernel_size=(3, 3), activation='relu'))\n",
    "cactus_model_aug.add(Conv2D(20, kernel_size=(3, 3), activation='relu'))\n",
    "cactus_model_aug.add(Conv2D(20, kernel_size=(3, 3), activation='relu'))\n",
    "\n",
    "#final prediction layers\n",
    "cactus_model_aug.add(Flatten())\n",
    "cactus_model_aug.add(Dense(100, activation='relu'))\n",
    "cactus_model_aug.add(Dense(num_classes, activation='softmax'))\n",
    "\n",
    "#compile the model\n",
    "cactus_model_aug.compile(loss=keras.losses.categorical_crossentropy,\n",
    "              optimizer='adam',\n",
    "              metrics=['accuracy'])"
   ]
  },
  {
   "cell_type": "code",
   "execution_count": 38,
   "metadata": {},
   "outputs": [],
   "source": [
    "from tensorflow.keras.preprocessing.image import ImageDataGenerator\n",
    "datagen = ImageDataGenerator(featurewise_center=False,  # set input mean to 0 over the dataset\n",
    "        samplewise_center=False,  # set each sample mean to 0\n",
    "        featurewise_std_normalization=False,  # divide inputs by std of the dataset\n",
    "        samplewise_std_normalization=False,  # divide each input by its std\n",
    "        zca_whitening=False,  # apply ZCA whitening\n",
    "        rotation_range=10,  # randomly rotate images in the range (degrees, 0 to 180)\n",
    "        zoom_range = 0.1, # Randomly zoom image \n",
    "        width_shift_range=0.1,  # randomly shift images horizontally (fraction of total width)\n",
    "        height_shift_range=0.1,  # randomly shift images vertically (fraction of total height)\n",
    "        horizontal_flip=True,  # randomly flip images\n",
    "        vertical_flip=True)  # randomly flip images\n",
    "\n",
    "datagen.fit(train_data)"
   ]
  },
  {
   "cell_type": "code",
   "execution_count": 40,
   "metadata": {},
   "outputs": [
    {
     "name": "stdout",
     "output_type": "stream",
     "text": [
      "Epoch 1/15\n",
      "20/20 [==============================] - 4s 216ms/step - loss: 0.2259 - accuracy: 0.9219 - val_loss: 0.1909 - val_accuracy: 0.9369\n",
      "Epoch 2/15\n",
      "20/20 [==============================] - 5s 272ms/step - loss: 0.2104 - accuracy: 0.9203 - val_loss: 0.1558 - val_accuracy: 0.9451\n",
      "Epoch 3/15\n",
      "20/20 [==============================] - 6s 278ms/step - loss: 0.2550 - accuracy: 0.8984 - val_loss: 0.3933 - val_accuracy: 0.8271\n",
      "Epoch 4/15\n",
      "20/20 [==============================] - 5s 260ms/step - loss: 0.2192 - accuracy: 0.9219 - val_loss: 0.2342 - val_accuracy: 0.9154\n",
      "Epoch 5/15\n",
      "20/20 [==============================] - 5s 263ms/step - loss: 0.1655 - accuracy: 0.9469 - val_loss: 0.2533 - val_accuracy: 0.9209\n",
      "Epoch 6/15\n",
      "20/20 [==============================] - 7s 327ms/step - loss: 0.1713 - accuracy: 0.9266 - val_loss: 0.2252 - val_accuracy: 0.9237\n",
      "Epoch 7/15\n",
      "20/20 [==============================] - 6s 298ms/step - loss: 0.2138 - accuracy: 0.9312 - val_loss: 0.1466 - val_accuracy: 0.9491\n",
      "Epoch 8/15\n",
      "20/20 [==============================] - 5s 275ms/step - loss: 0.1314 - accuracy: 0.9487 - val_loss: 0.1860 - val_accuracy: 0.9426\n",
      "Epoch 9/15\n",
      "20/20 [==============================] - 6s 295ms/step - loss: 0.2258 - accuracy: 0.9141 - val_loss: 0.1454 - val_accuracy: 0.9434\n",
      "Epoch 10/15\n",
      "20/20 [==============================] - 5s 259ms/step - loss: 0.1741 - accuracy: 0.9297 - val_loss: 0.2210 - val_accuracy: 0.9371\n",
      "Epoch 11/15\n",
      "20/20 [==============================] - 6s 281ms/step - loss: 0.1447 - accuracy: 0.9422 - val_loss: 0.1356 - val_accuracy: 0.9514\n",
      "Epoch 12/15\n",
      "20/20 [==============================] - 5s 265ms/step - loss: 0.1019 - accuracy: 0.9594 - val_loss: 0.3536 - val_accuracy: 0.9063\n",
      "Epoch 13/15\n",
      "20/20 [==============================] - 5s 255ms/step - loss: 0.1515 - accuracy: 0.9406 - val_loss: 0.1279 - val_accuracy: 0.9489\n",
      "Epoch 14/15\n",
      "20/20 [==============================] - 5s 271ms/step - loss: 0.1224 - accuracy: 0.9609 - val_loss: 0.1873 - val_accuracy: 0.9377\n",
      "Epoch 15/15\n",
      "20/20 [==============================] - 5s 265ms/step - loss: 0.1359 - accuracy: 0.9484 - val_loss: 0.2331 - val_accuracy: 0.9191\n"
     ]
    }
   ],
   "source": [
    "history2 = cactus_model_aug.fit_generator(datagen.flow(train_data,train_labels),\n",
    "                              epochs = 15, validation_data = (val_data,val_labels), steps_per_epoch=20)"
   ]
  },
  {
   "cell_type": "code",
   "execution_count": 41,
   "metadata": {},
   "outputs": [
    {
     "data": {
      "image/png": "[encoded data removed]",
      "text/plain": [
       "<Figure size 1080x360 with 2 Axes>"
      ]
     },
     "metadata": {
      "needs_background": "light"
     },
     "output_type": "display_data"
    }
   ],
   "source": [
    "#https://www.kaggle.com/pheaboo/simple-cnn-trained-from-scratch\n",
    "plt.figure(figsize=(15,5))\n",
    "\n",
    "plt.subplot(141)\n",
    "plt.plot(history2.history['loss'], label='training')\n",
    "plt.plot(history2.history['val_loss'], label='validation')\n",
    "plt.xlabel('# Epochs')\n",
    "plt.legend()\n",
    "plt.ylabel(\"Loss - Binary Cross Entropy\")\n",
    "plt.title('Loss Evolution')\n",
    "\n",
    "plt.subplot(142)\n",
    "plt.plot(history2.history['accuracy'], label='training')\n",
    "plt.plot(history2.history['val_accuracy'], label='validation')\n",
    "plt.xlabel('# Epochs')\n",
    "plt.ylabel(\"Accuracy\")\n",
    "plt.legend()\n",
    "plt.title('Accuracy Evolution')\n",
    "plt.show()"
   ]
  },
  {
   "cell_type": "code",
   "execution_count": 42,
   "metadata": {},
   "outputs": [],
   "source": [
    "#aug was NOT better"
   ]
  },
  {
   "cell_type": "markdown",
   "metadata": {},
   "source": [
    "# Fit on Testing Data"
   ]
  },
  {
   "cell_type": "code",
   "execution_count": 45,
   "metadata": {},
   "outputs": [
    {
     "data": {
      "text/plain": [
       "['input/test\\\\000940378805c44108d287872b2f04ce.jpg',\n",
       " 'input/test\\\\0017242f54ececa4512b4d7937d1e21e.jpg',\n",
       " 'input/test\\\\001ee6d8564003107853118ab87df407.jpg',\n",
       " 'input/test\\\\002e175c3c1e060769475f52182583d0.jpg',\n",
       " 'input/test\\\\0036e44a7e8f7218e9bc7bf8137e4943.jpg']"
      ]
     },
     "execution_count": 45,
     "metadata": {},
     "output_type": "execute_result"
    }
   ],
   "source": [
    "test_dir = 'input/test'\n",
    "test_paths = [join(test_dir,filename) for filename in os.listdir(test_dir)]\n",
    "test_paths[0:5]"
   ]
  },
  {
   "cell_type": "code",
   "execution_count": 46,
   "metadata": {},
   "outputs": [
    {
     "data": {
      "text/plain": [
       "4000"
      ]
     },
     "execution_count": 46,
     "metadata": {},
     "output_type": "execute_result"
    }
   ],
   "source": [
    "len(os.listdir(test_dir))"
   ]
  },
  {
   "cell_type": "code",
   "execution_count": 58,
   "metadata": {},
   "outputs": [
    {
     "name": "stdout",
     "output_type": "stream",
     "text": [
      "input/test\\000940378805c44108d287872b2f04ce.jpg\n"
     ]
    },
    {
     "data": {
      "image/jpeg": "[encoded data removed]",
      "text/plain": [
       "<IPython.core.display.Image object>"
      ]
     },
     "metadata": {
      "image/jpeg": {
       "height": 200,
       "width": 200
      }
     },
     "output_type": "display_data"
    },
    {
     "name": "stdout",
     "output_type": "stream",
     "text": [
      "input/test\\0017242f54ececa4512b4d7937d1e21e.jpg\n"
     ]
    },
    {
     "data": {
      "image/jpeg": "[encoded data removed]",
      "text/plain": [
       "<IPython.core.display.Image object>"
      ]
     },
     "metadata": {
      "image/jpeg": {
       "height": 200,
       "width": 200
      }
     },
     "output_type": "display_data"
    },
    {
     "name": "stdout",
     "output_type": "stream",
     "text": [
      "input/test\\001ee6d8564003107853118ab87df407.jpg\n"
     ]
    },
    {
     "data": {
      "image/jpeg": "[encoded data removed]",
      "text/plain": [
       "<IPython.core.display.Image object>"
      ]
     },
     "metadata": {
      "image/jpeg": {
       "height": 200,
       "width": 200
      }
     },
     "output_type": "display_data"
    },
    {
     "name": "stdout",
     "output_type": "stream",
     "text": [
      "input/test\\002e175c3c1e060769475f52182583d0.jpg\n"
     ]
    },
    {
     "data": {
      "image/jpeg": "[encoded data removed]",
      "text/plain": [
       "<IPython.core.display.Image object>"
      ]
     },
     "metadata": {
      "image/jpeg": {
       "height": 200,
       "width": 200
      }
     },
     "output_type": "display_data"
    },
    {
     "name": "stdout",
     "output_type": "stream",
     "text": [
      "input/test\\0036e44a7e8f7218e9bc7bf8137e4943.jpg\n"
     ]
    },
    {
     "data": {
      "image/jpeg": "[encoded data removed]",
      "text/plain": [
       "<IPython.core.display.Image object>"
      ]
     },
     "metadata": {
      "image/jpeg": {
       "height": 200,
       "width": 200
      }
     },
     "output_type": "display_data"
    }
   ],
   "source": [
    "from IPython.display import Image, display\n",
    "for i, img_path in enumerate(test_paths[0:5]):\n",
    "    print(img_path)\n",
    "    display(Image(img_path, width = 200, height = 200))"
   ]
  },
  {
   "cell_type": "code",
   "execution_count": 48,
   "metadata": {},
   "outputs": [],
   "source": [
    "test_data = read_and_prep_images(test_paths)"
   ]
  },
  {
   "cell_type": "code",
   "execution_count": 49,
   "metadata": {},
   "outputs": [
    {
     "data": {
      "text/plain": [
       "(4000, 32, 32, 3)"
      ]
     },
     "execution_count": 49,
     "metadata": {},
     "output_type": "execute_result"
    }
   ],
   "source": [
    "np.shape(test_data)"
   ]
  },
  {
   "cell_type": "code",
   "execution_count": 53,
   "metadata": {},
   "outputs": [
    {
     "data": {
      "text/plain": [
       "[0.0, 0.0, 1.0, 1.0, 0.0, 0.0, 0.0, 0.0, 0.0, 1.0, 0.0, 0.0]"
      ]
     },
     "execution_count": 53,
     "metadata": {},
     "output_type": "execute_result"
    }
   ],
   "source": [
    "#Get predictions\n",
    "preds_test = cactus_model.predict(test_data)\n",
    "\n",
    "# #the model returns a list of probabilities for each outcome. \n",
    "realPreds = preds_test[:,0]\n",
    "[round(x, 2) for x in realPreds][0:12]"
   ]
  },
  {
   "cell_type": "code",
   "execution_count": 51,
   "metadata": {},
   "outputs": [],
   "source": [
    "# Save test predictions to file\n",
    "# no aug performed better\n",
    "output = pd.DataFrame({'id': os.listdir(test_dir),\n",
    "                       'has_cactus': realPreds})\n",
    "output.to_csv('submission.csv', index=False)"
   ]
  },
  {
   "cell_type": "code",
   "execution_count": 52,
   "metadata": {},
   "outputs": [
    {
     "data": {
      "text/html": [
       "<div>\n",
       "<style scoped>\n",
       "    .dataframe tbody tr th:only-of-type {\n",
       "        vertical-align: middle;\n",
       "    }\n",
       "\n",
       "    .dataframe tbody tr th {\n",
       "        vertical-align: top;\n",
       "    }\n",
       "\n",
       "    .dataframe thead th {\n",
       "        text-align: right;\n",
       "    }\n",
       "</style>\n",
       "<table border=\"1\" class=\"dataframe\">\n",
       "  <thead>\n",
       "    <tr style=\"text-align: right;\">\n",
       "      <th></th>\n",
       "      <th>id</th>\n",
       "      <th>has_cactus</th>\n",
       "    </tr>\n",
       "  </thead>\n",
       "  <tbody>\n",
       "    <tr>\n",
       "      <td>0</td>\n",
       "      <td>000940378805c44108d287872b2f04ce.jpg</td>\n",
       "      <td>3.143313e-03</td>\n",
       "    </tr>\n",
       "    <tr>\n",
       "      <td>1</td>\n",
       "      <td>0017242f54ececa4512b4d7937d1e21e.jpg</td>\n",
       "      <td>5.026914e-09</td>\n",
       "    </tr>\n",
       "    <tr>\n",
       "      <td>2</td>\n",
       "      <td>001ee6d8564003107853118ab87df407.jpg</td>\n",
       "      <td>9.999260e-01</td>\n",
       "    </tr>\n",
       "    <tr>\n",
       "      <td>3</td>\n",
       "      <td>002e175c3c1e060769475f52182583d0.jpg</td>\n",
       "      <td>9.987890e-01</td>\n",
       "    </tr>\n",
       "    <tr>\n",
       "      <td>4</td>\n",
       "      <td>0036e44a7e8f7218e9bc7bf8137e4943.jpg</td>\n",
       "      <td>1.066048e-03</td>\n",
       "    </tr>\n",
       "  </tbody>\n",
       "</table>\n",
       "</div>"
      ],
      "text/plain": [
       "                                     id    has_cactus\n",
       "0  000940378805c44108d287872b2f04ce.jpg  3.143313e-03\n",
       "1  0017242f54ececa4512b4d7937d1e21e.jpg  5.026914e-09\n",
       "2  001ee6d8564003107853118ab87df407.jpg  9.999260e-01\n",
       "3  002e175c3c1e060769475f52182583d0.jpg  9.987890e-01\n",
       "4  0036e44a7e8f7218e9bc7bf8137e4943.jpg  1.066048e-03"
      ]
     },
     "execution_count": 52,
     "metadata": {},
     "output_type": "execute_result"
    }
   ],
   "source": [
    "output.head()"
   ]
  },
  {
   "cell_type": "code",
   "execution_count": null,
   "metadata": {},
   "outputs": [],
   "source": []
  }
 ],
 "metadata": {
  "kernelspec": {
   "display_name": "Python 3",
   "language": "python",
   "name": "python3"
  },
  "language_info": {
   "codemirror_mode": {
    "name": "ipython",
    "version": 3
   },
   "file_extension": ".py",
   "mimetype": "text/x-python",
   "name": "python",
   "nbconvert_exporter": "python",
   "pygments_lexer": "ipython3",
   "version": "3.7.3"
  }
 },
 "nbformat": 4,
 "nbformat_minor": 2
}
